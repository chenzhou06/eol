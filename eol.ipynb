{
 "cells": [
  {
   "cell_type": "markdown",
   "metadata": {},
   "source": [
    "# 问题"
   ]
  },
  {
   "cell_type": "code",
   "execution_count": 1,
   "metadata": {},
   "outputs": [],
   "source": [
    "link = \"https://gkcx.eol.cn/soudaxue/queryProvinceScoreNum.html?schoolflag=&page=1&schoolyear=&argyear=\""
   ]
  },
  {
   "cell_type": "markdown",
   "metadata": {},
   "source": [
    "这个链接返回的页面是动态页面，其 HTML 文件本身只有空的表格和 JavaScript 代码，没有数据。当浏览器渲染页面时会执行 JavaScript 代码，此时 JavaScript 代码从网站服务器获取数据，然后展现在页面上。Python 并不会执行 JavaScript，所以 pandas 的 read_html 函数看到的是没有数据的页面。"
   ]
  },
  {
   "cell_type": "code",
   "execution_count": 2,
   "metadata": {},
   "outputs": [
    {
     "data": {
      "text/plain": [
       "[Empty DataFrame\n",
       " Columns: [学校名称, 招生地区, 文理科, 年份, 录取批次, 录取人数, 录取平均分, 高校对比]\n",
       " Index: []]"
      ]
     },
     "execution_count": 2,
     "metadata": {},
     "output_type": "execute_result"
    }
   ],
   "source": [
    "import pandas as pd\n",
    "pd.read_html(link)"
   ]
  },
  {
   "cell_type": "markdown",
   "metadata": {},
   "source": [
    "# 抓取动态页面\n",
    "\n",
    "抓取动态页面的数据就是要找到网站的API,一般来说这些API都是返回JSON文件。比如说，我在中国教育在线网站查询北京大学的时候，有一个链接返回的是JSON 资源。\n",
    "\n",
    "![image.png](query.png)\n",
    "\n",
    "这个链接返回的JSON文件就是我们想要的数据：\n",
    "\n",
    "![json.png](json.png)\n",
    "\n",
    "分析这个API的参数\n",
    "\n",
    "```\n",
    "https://data-gkcx.eol.cn/soudaxue/queryProvinceScore.html?messtype=jsonp&lunum=1&callback=jQuery18306243269813396837_1527828613487&provinceforschool=&schooltype=&page=1&size=10&keyWord=%E5%8C%97%E4%BA%AC%E5%A4%A7%E5%AD%A6&schoolproperty=&schoolflag=&province=%E5%8C%97%E4%BA%AC&fstype=%E7%90%86%E7%A7%91&zhaoshengpici=&fsyear=&_=1527828616015\n",
    "```\n",
    "\n",
    "发现参数 messtype 的值是 jsonp，意思就是“请求的消息类型是 jsonp”，jsonp 就是 json 但是多了些我们不需要的东西，Python 不好直接处理，我们可以把 messtype 改成 json, 这个API就能直接返回 json 了。参数 page 和 size 关于分页的，网站默认是 `size=10` `page=1`，大概就是每页10行，请求第一页的数据。"
   ]
  },
  {
   "cell_type": "code",
   "execution_count": 3,
   "metadata": {},
   "outputs": [
    {
     "data": {
      "text/plain": [
       "{'totalRecord': {'num': '234143'},\n",
       " 'school': [{'schoolid': '31',\n",
       "   'schoolname': '北京大学',\n",
       "   'localprovince': '云南',\n",
       "   'province': '北京',\n",
       "   'studenttype': '文科',\n",
       "   'year': '2016',\n",
       "   'batch': '本科提前批',\n",
       "   'var': '671',\n",
       "   'var_score': '671',\n",
       "   'max': '--',\n",
       "   'min': '--',\n",
       "   'num': '0',\n",
       "   'fencha': '0',\n",
       "   'provincescore': '0',\n",
       "   'url': 'http://gkcx.eol.cn/schoolhtm/schoolAreaPoint/31/10001/10034/10149.htm?779822'},\n",
       "  {'schoolid': '31',\n",
       "   'schoolname': '北京大学',\n",
       "   'localprovince': '西藏',\n",
       "   'province': '北京',\n",
       "   'studenttype': '文科',\n",
       "   'year': '2016',\n",
       "   'batch': '本科提前批',\n",
       "   'var': '629',\n",
       "   'var_score': '629',\n",
       "   'max': '--',\n",
       "   'min': '--',\n",
       "   'num': '0',\n",
       "   'fencha': '0',\n",
       "   'provincescore': '0',\n",
       "   'url': 'http://gkcx.eol.cn/schoolhtm/schoolAreaPoint/31/10025/10034/10149.htm?780715'},\n",
       "  {'schoolid': '31',\n",
       "   'schoolname': '北京大学',\n",
       "   'localprovince': '陕西',\n",
       "   'province': '北京',\n",
       "   'studenttype': '文科',\n",
       "   'year': '2016',\n",
       "   'batch': '本科提前批',\n",
       "   'var': '656',\n",
       "   'var_score': '656',\n",
       "   'max': '--',\n",
       "   'min': '--',\n",
       "   'num': '0',\n",
       "   'fencha': '0',\n",
       "   'provincescore': '0',\n",
       "   'url': 'http://gkcx.eol.cn/schoolhtm/schoolAreaPoint/31/10029/10034/10149.htm?781454'},\n",
       "  {'schoolid': '31',\n",
       "   'schoolname': '北京大学',\n",
       "   'localprovince': '河北',\n",
       "   'province': '北京',\n",
       "   'studenttype': '文科',\n",
       "   'year': '2016',\n",
       "   'batch': '本科提前批',\n",
       "   'var': '665',\n",
       "   'var_score': '665',\n",
       "   'max': '--',\n",
       "   'min': '--',\n",
       "   'num': '0',\n",
       "   'fencha': '0',\n",
       "   'provincescore': '0',\n",
       "   'url': 'http://gkcx.eol.cn/schoolhtm/schoolAreaPoint/31/10016/10034/10149.htm?782754'},\n",
       "  {'schoolid': '31',\n",
       "   'schoolname': '北京大学',\n",
       "   'localprovince': '山西',\n",
       "   'province': '北京',\n",
       "   'studenttype': '文科',\n",
       "   'year': '2016',\n",
       "   'batch': '本科提前批',\n",
       "   'var': '610',\n",
       "   'var_score': '610',\n",
       "   'max': '--',\n",
       "   'min': '--',\n",
       "   'num': '0',\n",
       "   'fencha': '0',\n",
       "   'provincescore': '0',\n",
       "   'url': 'http://gkcx.eol.cn/schoolhtm/schoolAreaPoint/31/10010/10034/10149.htm?783959'},\n",
       "  {'schoolid': '31',\n",
       "   'schoolname': '北京大学',\n",
       "   'localprovince': '黑龙江',\n",
       "   'province': '北京',\n",
       "   'studenttype': '文科',\n",
       "   'year': '2016',\n",
       "   'batch': '本科提前批',\n",
       "   'var': '628',\n",
       "   'var_score': '628',\n",
       "   'max': '--',\n",
       "   'min': '--',\n",
       "   'num': '0',\n",
       "   'fencha': '0',\n",
       "   'provincescore': '0',\n",
       "   'url': 'http://gkcx.eol.cn/schoolhtm/schoolAreaPoint/31/10031/10034/10149.htm?786149'},\n",
       "  {'schoolid': '31',\n",
       "   'schoolname': '北京大学',\n",
       "   'localprovince': '河南',\n",
       "   'province': '北京',\n",
       "   'studenttype': '文科',\n",
       "   'year': '2016',\n",
       "   'batch': '本科提前批',\n",
       "   'var': '630',\n",
       "   'var_score': '630',\n",
       "   'max': '--',\n",
       "   'min': '--',\n",
       "   'num': '0',\n",
       "   'fencha': '0',\n",
       "   'provincescore': '0',\n",
       "   'url': 'http://gkcx.eol.cn/schoolhtm/schoolAreaPoint/31/10017/10034/10149.htm?791083'},\n",
       "  {'schoolid': '31',\n",
       "   'schoolname': '北京大学',\n",
       "   'localprovince': '河北',\n",
       "   'province': '北京',\n",
       "   'studenttype': '理科',\n",
       "   'year': '2016',\n",
       "   'batch': '本科提前批',\n",
       "   'var': '682',\n",
       "   'var_score': '682',\n",
       "   'max': [],\n",
       "   'min': [],\n",
       "   'num': '0',\n",
       "   'fencha': '0',\n",
       "   'provincescore': '--',\n",
       "   'url': 'http://gkcx.eol.cn/schoolhtm/schoolAreaPoint/31/10016/10035/10149.htm?808405'},\n",
       "  {'schoolid': '31',\n",
       "   'schoolname': '北京大学',\n",
       "   'localprovince': '湖北',\n",
       "   'province': '北京',\n",
       "   'studenttype': '文科',\n",
       "   'year': '2016',\n",
       "   'batch': '本科提前批',\n",
       "   'var': '640',\n",
       "   'var_score': '640',\n",
       "   'max': '--',\n",
       "   'min': '--',\n",
       "   'num': '0',\n",
       "   'fencha': '0',\n",
       "   'provincescore': '0',\n",
       "   'url': 'http://gkcx.eol.cn/schoolhtm/schoolAreaPoint/31/10021/10034/10149.htm?792310'},\n",
       "  {'schoolid': '31',\n",
       "   'schoolname': '北京大学',\n",
       "   'localprovince': '湖南',\n",
       "   'province': '北京',\n",
       "   'studenttype': '文科',\n",
       "   'year': '2016',\n",
       "   'batch': '本科提前批',\n",
       "   'var': '643',\n",
       "   'var_score': '643',\n",
       "   'max': '--',\n",
       "   'min': '--',\n",
       "   'num': '0',\n",
       "   'fencha': '0',\n",
       "   'provincescore': '0',\n",
       "   'url': 'http://gkcx.eol.cn/schoolhtm/schoolAreaPoint/31/10022/10034/10149.htm?793595'}]}"
      ]
     },
     "execution_count": 3,
     "metadata": {},
     "output_type": "execute_result"
    }
   ],
   "source": [
    "# pip install requests, or conda install requests\n",
    "import requests\n",
    "\n",
    "url = r\"https://data-gkcx.eol.cn/soudaxue/queryProvinceScore.html?messtype=json\"\n",
    "# 每页10行，请求第2页\n",
    "r = requests.get(url, data = {\"page\": 2, \"size\": 10})\n",
    "r.json()"
   ]
  },
  {
   "cell_type": "markdown",
   "metadata": {},
   "source": [
    "Json 数据很好操作"
   ]
  },
  {
   "cell_type": "code",
   "execution_count": 4,
   "metadata": {},
   "outputs": [
    {
     "name": "stdout",
     "output_type": "stream",
     "text": [
      "北京大学, 云南, 北京, 文科, 2016, 本科提前批, 671, 671\n",
      "北京大学, 西藏, 北京, 文科, 2016, 本科提前批, 629, 629\n",
      "北京大学, 陕西, 北京, 文科, 2016, 本科提前批, 656, 656\n",
      "北京大学, 河北, 北京, 文科, 2016, 本科提前批, 665, 665\n",
      "北京大学, 山西, 北京, 文科, 2016, 本科提前批, 610, 610\n",
      "北京大学, 黑龙江, 北京, 文科, 2016, 本科提前批, 628, 628\n",
      "北京大学, 河南, 北京, 文科, 2016, 本科提前批, 630, 630\n",
      "北京大学, 河北, 北京, 理科, 2016, 本科提前批, 682, 682\n",
      "北京大学, 湖北, 北京, 文科, 2016, 本科提前批, 640, 640\n",
      "北京大学, 湖南, 北京, 文科, 2016, 本科提前批, 643, 643\n"
     ]
    }
   ],
   "source": [
    "row = \"{schoolname}, {localprovince}, {province}, {studenttype}, {year}, {batch}, {var}, {var_score}\"\n",
    "\n",
    "for s in r.json()[\"school\"]:\n",
    "    print(row.format(**s))"
   ]
  }
 ],
 "metadata": {
  "kernelspec": {
   "display_name": "Python 3",
   "language": "python",
   "name": "python3"
  },
  "language_info": {
   "codemirror_mode": {
    "name": "ipython",
    "version": 3
   },
   "file_extension": ".py",
   "mimetype": "text/x-python",
   "name": "python",
   "nbconvert_exporter": "python",
   "pygments_lexer": "ipython3",
   "version": "3.6.5"
  }
 },
 "nbformat": 4,
 "nbformat_minor": 2
}
