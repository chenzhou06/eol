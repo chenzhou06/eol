{
 "cells": [
  {
   "cell_type": "markdown",
   "metadata": {},
   "source": [
    "# 问题"
   ]
  },
  {
   "cell_type": "code",
   "execution_count": 30,
   "metadata": {},
   "outputs": [],
   "source": [
    "link = \"https://gkcx.eol.cn/soudaxue/queryProvinceScoreNum.html?schoolflag=&page=1&schoolyear=&argyear=\""
   ]
  },
  {
   "cell_type": "markdown",
   "metadata": {},
   "source": [
    "这个链接返回的页面是动态页面，其 HTML 文件本身只有空的表格和 JavaScript 代码，没有数据。当浏览器渲染页面时会执行 JavaScript 代码，此时 JavaScript 代码从网站服务器获取数据，然后展现在页面上。Python 并不会执行 JavaScript，所以 pandas 的 read_html 函数看到的是没有数据的页面。"
   ]
  },
  {
   "cell_type": "code",
   "execution_count": null,
   "metadata": {},
   "outputs": [],
   "source": [
    "import pandas as pd\n",
    "pd.read_html(link)"
   ]
  },
  {
   "attachments": {},
   "cell_type": "markdown",
   "metadata": {},
   "source": [
    "# 抓取动态页面\n",
    "\n",
    "抓取动态页面的数据就是要找到网站的API,一般来说这些API都是返回JSON文件。比如说，我在中国教育在线网站查询北京大学的时候，有一个链接返回的是JSON 资源。\n",
    "\n",
    "![image.png](query.png)\n",
    "\n",
    "这个链接返回的JSON文件就是我们想要的数据：\n",
    "\n",
    "![json.png](json.png)\n",
    "\n",
    "分析这个API的参数\n",
    "\n",
    "```\n",
    "https://data-gkcx.eol.cn/soudaxue/queryProvinceScore.html?messtype=jsonp&lunum=1&callback=jQuery18306243269813396837_1527828613487&provinceforschool=&schooltype=&page=1&size=10&keyWord=%E5%8C%97%E4%BA%AC%E5%A4%A7%E5%AD%A6&schoolproperty=&schoolflag=&province=%E5%8C%97%E4%BA%AC&fstype=%E7%90%86%E7%A7%91&zhaoshengpici=&fsyear=&_=1527828616015\n",
    "```\n",
    "\n",
    "发现参数 messtype 的值是 jsonp，意思就是“请求的消息类型是 jsonp”，jsonp 就是 json 但是多了些我们不需要的东西，Python 不好直接处理，我们可以把 messtype 改成 json, 这个API就能直接返回 json 了。参数 page 和 size 关于分页的，网站默认是 `size=10` `page=1`，大概就是每页10行，请求第一页的数据。"
   ]
  },
  {
   "cell_type": "code",
   "execution_count": null,
   "metadata": {},
   "outputs": [],
   "source": [
    "# pip install requests, or conda install requests\n",
    "import requests\n",
    "\n",
    "url = r\"https://data-gkcx.eol.cn/soudaxue/queryProvinceScore.html?messtype=json\"\n",
    "# 每页10行，请求第2页\n",
    "r = requests.get(url, data = {\"page\": 2, \"size\": 10})\n",
    "r.json()"
   ]
  },
  {
   "cell_type": "markdown",
   "metadata": {},
   "source": [
    "Json 数据很好操作"
   ]
  },
  {
   "cell_type": "code",
   "execution_count": null,
   "metadata": {},
   "outputs": [],
   "source": [
    "row = \"{schoolname}, {localprovince}, {province}, {studenttype}, {year}, {batch}, {var}, {var_score}\"\n",
    "\n",
    "for s in r.json()[\"school\"]:\n",
    "    print(row.format(**s))"
   ]
  }
 ],
 "metadata": {
  "kernelspec": {
   "display_name": "Python 3",
   "language": "python",
   "name": "python3"
  },
  "language_info": {
   "codemirror_mode": {
    "name": "ipython",
    "version": 3
   },
   "file_extension": ".py",
   "mimetype": "text/x-python",
   "name": "python",
   "nbconvert_exporter": "python",
   "pygments_lexer": "ipython3",
   "version": "3.6.5"
  }
 },
 "nbformat": 4,
 "nbformat_minor": 2
}
